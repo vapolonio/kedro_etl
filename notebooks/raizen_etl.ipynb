{
 "cells": [
  {
   "cell_type": "code",
   "execution_count": 21,
   "id": "77968eb4",
   "metadata": {},
   "outputs": [],
   "source": [
    "from kedro.io import MemoryDataSet\n",
    "from typing import Dict\n",
    "import pandas as pd "
   ]
  },
  {
   "cell_type": "code",
   "execution_count": 22,
   "id": "9053dfa3",
   "metadata": {
    "tags": [
     "node"
    ]
   },
   "outputs": [],
   "source": [
    "def download_file() -> MemoryDataSet:\n",
    "    import wget\n",
    "    file_url = 'http://www.anp.gov.br/arquivos/dados-estatisticos/vendas-combustiveis/vendas-combustiveis-m3.xls'\n",
    "    path_file = f'./data/01_raw/vendas-combustiveis-m3.xls'\n",
    "    wget.download(file_url, path_file)\n",
    "    return MemoryDataSet(data=[])"
   ]
  },
  {
   "cell_type": "code",
   "execution_count": 24,
   "id": "71bfadc8-451d-48cf-99c0-f926d19f2ad0",
   "metadata": {
    "tags": [
     "node"
    ]
   },
   "outputs": [],
   "source": [
    "def convert_xls_ods(data: MemoryDataSet) -> MemoryDataSet:\n",
    "    import os\n",
    "    os.chdir(f'./data/01_raw/')\n",
    "    stream = os.popen('soffice --headless --convert-to ods vendas-combustiveis-m3.xls')\n",
    "    output = stream.read()\n",
    "    print(output)\n",
    "    return data.save(data=['convertido'])"
   ]
  },
  {
   "cell_type": "code",
   "execution_count": 25,
   "id": "beca65aa-b495-4dc1-82dc-b2b2094fca43",
   "metadata": {
    "tags": [
     "node"
    ]
   },
   "outputs": [],
   "source": [
    "def partition_by_date(df: pd.DataFrame) -> Dict[str, pd.DataFrame]:\n",
    "    parts = {}\n",
    "    \n",
    "    for date in df['year_month'].unique():\n",
    "        parts[f'date=={date}'] = df[df['year_month'] == date]\n",
    "    return parts"
   ]
  },
  {
   "cell_type": "code",
   "execution_count": 26,
   "id": "a3ea150a-6bf0-4fb8-83b3-deba05275309",
   "metadata": {
    "tags": [
     "node"
    ]
   },
   "outputs": [],
   "source": [
    "def cleaning(data: MemoryDataSet) -> None:\n",
    "    from pandas_ods_reader import read_ods\n",
    "    import pandas as pd\n",
    "    from kedro.extras.datasets.pandas import ParquetDataSet \n",
    "    from datetime import datetime\n",
    "    pd.set_option('display.precision', 2)\n",
    "    UF = {\n",
    "        'Acre': 'AC',\n",
    "        'Alagoas': 'AL',\n",
    "        'Amazonas': 'AM',\n",
    "        'Amapá': 'AP',\n",
    "        'Bahia': 'BA',\n",
    "        'Ceará': 'CE',\n",
    "        'Distrito Federal': 'DF',\n",
    "        'Espírito Santo': 'ES',\n",
    "        'Goiás': 'GO',\n",
    "        'Maranhão': 'MA',\n",
    "        'Minas Gerais': 'MG',\n",
    "        'Mato Grosso do Sul': 'MS',\n",
    "        'Mato Grosso': 'MT',\n",
    "        'Pará': 'PA',\n",
    "        'Paraíba': 'PB',\n",
    "        'Pernambuco': 'PE',\n",
    "        'Piauí': 'PI',\n",
    "        'Paraná': 'PR',\n",
    "        'Rio de Janeiro': 'RJ',\n",
    "        'Rio Grande do Norte': 'RN',\n",
    "        'Rondônia': 'RO',\n",
    "        'Roraima': 'RR',\n",
    "        'Rio Grande do Sul': 'RS',\n",
    "        'Santa Catarina': 'SC',\n",
    "        'Sergipe': 'SE',\n",
    "        'São Paulo': 'SP',\n",
    "        'Tocantins': 'TO'\n",
    "    }\n",
    "\n",
    "    UF = dict((k.upper(), v.upper()) for k, v in UF.items()) \n",
    "\n",
    "    months = [\n",
    "        'Jan',\n",
    "        'Fev',\n",
    "        'Mar',\n",
    "        'Abr',\n",
    "        'Mai',\n",
    "        'Jun',\n",
    "        'Jul',\n",
    "        'Ago',\n",
    "        'Set',\n",
    "        'Out',\n",
    "        'Nov',\n",
    "        'Dez'\n",
    "    ]\n",
    "\n",
    "    derivados = ['ETANOL HIDRATADO', 'GASOLINA C', 'GASOLINA DE AVIAÇÃO', 'GLP', 'ÓLEO COMBUSTÍVEL', 'ÓLEO DIESEL', 'QUEROSENE DE AVIAÇÃO', 'QUEROSENE ILUMINANTE']\n",
    "    diesel = ['ÓLEO DIESEL (OUTROS )', 'ÓLEO DIESEL MARÍTIMO', 'ÓLEO DIESEL S-10', 'ÓLEO DIESEL S-500', 'ÓLEO DIESEL S-1800']\n",
    "\n",
    "    #Carregando arquivos ods\n",
    "    df_2 = read_ods(f'./data/01_raw/vendas-combustiveis-m3.ods', 2)\n",
    "    df_3 = read_ods(f'./data/01_raw/vendas-combustiveis-m3.ods', 3)\n",
    "\n",
    "    #concatenando e montando dataset\n",
    "    dataset = pd.concat([df_2, df_3])\n",
    "\n",
    "    final = list()\n",
    "    for row in dataset.fillna(0).to_dict(orient='records'):\n",
    "        _header = {\n",
    "            'uf': UF[row['ESTADO']],\n",
    "            'product': row['COMBUSTÍVEL'].replace(' (m3)', ''),\n",
    "            'unit': 'm3',\n",
    "        }\n",
    "        if _header['product'] in derivados + diesel:\n",
    "            for index, month in enumerate(months):\n",
    "                final.append({\n",
    "                  **{\n",
    "                    'year_month': datetime.strptime(f\"{int(row['ANO'])}-{index + 1}\", '%Y-%m'),\n",
    "                    'volume': row[month],\n",
    "                    'created_at': datetime.now()\n",
    "                }\n",
    "                , **_header, \n",
    "                })\n",
    "    final = pd.DataFrame(final)[['year_month', 'uf', 'product', 'unit', 'volume', 'table', 'created_at']]\n",
    "\n",
    "    parquetDataset = ParquetDataSet(filepath=f'{context.project_path}/data/02_intermediate/amostra_final.parquet')\n",
    "    parquetDataset.save(final)\n",
    "    return None"
   ]
  },
  {
   "cell_type": "code",
   "execution_count": 4,
   "id": "c2200d71-fe1d-4a44-9989-2129d9f5b9c4",
   "metadata": {},
   "outputs": [],
   "source": [
    "download_file()"
   ]
  },
  {
   "cell_type": "code",
   "execution_count": 5,
   "id": "e1c4363e-5f94-4cd3-a88a-deaee795e023",
   "metadata": {},
   "outputs": [
    {
     "name": "stdout",
     "output_type": "stream",
     "text": [
      "convert /Users/victorapolonio/Code/raizen_etl/data/01_raw/vendas-combustiveis-m3.xls -> /Users/victorapolonio/Code/raizen_etl/data/01_raw/vendas-combustiveis-m3.ods using filter : calc8\n",
      "\n"
     ]
    }
   ],
   "source": [
    "convert_xls_ods()"
   ]
  },
  {
   "cell_type": "code",
   "execution_count": 8,
   "id": "d0438eef-da9c-46a6-9e86-8d079718bc2b",
   "metadata": {},
   "outputs": [],
   "source": [
    "cleaning()"
   ]
  }
 ],
 "metadata": {
  "celltoolbar": "Tags",
  "kernelspec": {
   "display_name": "raizen_etl",
   "language": "python",
   "name": "python3"
  },
  "language_info": {
   "codemirror_mode": {
    "name": "ipython",
    "version": 3
   },
   "file_extension": ".py",
   "mimetype": "text/x-python",
   "name": "python",
   "nbconvert_exporter": "python",
   "pygments_lexer": "ipython3",
   "version": "3.8.10"
  }
 },
 "nbformat": 4,
 "nbformat_minor": 5
}
